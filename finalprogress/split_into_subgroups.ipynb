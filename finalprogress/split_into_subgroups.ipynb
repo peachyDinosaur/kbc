{
 "metadata": {
  "language_info": {
   "codemirror_mode": {
    "name": "ipython",
    "version": 3
   },
   "file_extension": ".py",
   "mimetype": "text/x-python",
   "name": "python",
   "nbconvert_exporter": "python",
   "pygments_lexer": "ipython3",
   "version": 3
  },
  "orig_nbformat": 2,
  "kernelspec": {
   "name": "python_defaultSpec_1595095979555",
   "display_name": "Python 3.8.3 64-bit ('env': venv)"
  }
 },
 "nbformat": 4,
 "nbformat_minor": 2,
 "cells": [
  {
   "cell_type": "code",
   "execution_count": 50,
   "metadata": {},
   "outputs": [],
   "source": [
    "import pandas as pd\n",
    "import matplotlib.pyplot as plt\n",
    "import numpy as np\n",
    "import pandas_profiling as pp\n",
    "\n",
    "from sklearn import tree\n",
    "from sklearn.ensemble import GradientBoostingClassifier\n",
    "from sklearn.model_selection import train_test_split, cross_val_score\n",
    "from sklearn.model_selection import StratifiedShuffleSplit\n",
    "from sklearn.feature_selection import SelectKBest, f_classif \n",
    "from sklearn.model_selection import cross_val_score\n",
    "\n",
    "from sklearn.neural_network import MLPClassifier\n",
    "from sklearn.neighbors import KNeighborsClassifier\n",
    "from sklearn.svm import SVC\n",
    "from sklearn.gaussian_process import GaussianProcessClassifier\n",
    "from sklearn.gaussian_process.kernels import RBF\n",
    "from sklearn.tree import DecisionTreeClassifier\n",
    "from sklearn.ensemble import RandomForestClassifier, AdaBoostClassifier\n",
    "from sklearn.naive_bayes import GaussianNB\n",
    "from sklearn.discriminant_analysis import QuadraticDiscriminantAnalysis"
   ]
  },
  {
   "cell_type": "code",
   "execution_count": 20,
   "metadata": {},
   "outputs": [],
   "source": [
    "df = pd.read_csv(\"C:\\\\Users\\\\Peachy\\\\Documents\\\\code\\\\kbc\\\\simplifid_data.csv\")"
   ]
  },
  {
   "cell_type": "code",
   "execution_count": 21,
   "metadata": {},
   "outputs": [
    {
     "output_type": "execute_result",
     "data": {
      "text/plain": "(969, 55)"
     },
     "metadata": {},
     "execution_count": 21
    }
   ],
   "source": [
    "df.shape"
   ]
  },
  {
   "cell_type": "code",
   "execution_count": 22,
   "metadata": {},
   "outputs": [
    {
     "output_type": "execute_result",
     "data": {
      "text/plain": "   Client  viable_candidate  Top_Value  Catagory_Label  Sale_MF  Sale_CC  \\\n0    1094               1.0   5.138571               2        0        1   \n1    1484               1.0  25.609107               3        1        0   \n2      20               1.0   3.822500               2        0        1   \n3    1193               0.0   0.000000               0        0        0   \n4     142               0.0   0.000000               0        0        0   \n\n   Sale_CL  Revenue_MF  Revenue_CC  Revenue_CL  ...  binned_VolumeDeb  \\\n0        0    0.000000    5.138571      0.0000  ...                 3   \n1        1   25.609107    0.000000      8.7225  ...                 3   \n2        0    0.000000    3.822500      0.0000  ...                 2   \n3        0    0.000000    0.000000      0.0000  ...                 4   \n4        0    0.000000    0.000000      0.0000  ...                 3   \n\n   binned_VolumeDeb_CA  binned_VolumeDebCash_Card  \\\n0                    3                          1   \n1                    3                          1   \n2                    2                          1   \n3                    3                          2   \n4                    3                          1   \n\n   binned_VolumeDebCashless_Card  binned_VolumeDeb_PaymentOrder  \\\n0                              2                              3   \n1                              2                              2   \n2                              1                              1   \n3                              2                              1   \n4                              1                              3   \n\n   binned_TransactionsDeb  binned_TransactionsDeb_CA  \\\n0                       1                          1   \n1                       1                          1   \n2                       1                          1   \n3                       1                          1   \n4                       1                          1   \n\n   binned_TransactionsDebCash_Card  binned_TransactionsDebCashless_Card  \\\n0                                1                                    1   \n1                                1                                    1   \n2                                1                                    1   \n3                                1                                    1   \n4                                1                                    1   \n\n   binned_TransactionsDeb_PaymentOrder  \n0                                    1  \n1                                    1  \n2                                    1  \n3                                    1  \n4                                    1  \n\n[5 rows x 55 columns]",
      "text/html": "<div>\n<style scoped>\n    .dataframe tbody tr th:only-of-type {\n        vertical-align: middle;\n    }\n\n    .dataframe tbody tr th {\n        vertical-align: top;\n    }\n\n    .dataframe thead th {\n        text-align: right;\n    }\n</style>\n<table border=\"1\" class=\"dataframe\">\n  <thead>\n    <tr style=\"text-align: right;\">\n      <th></th>\n      <th>Client</th>\n      <th>viable_candidate</th>\n      <th>Top_Value</th>\n      <th>Catagory_Label</th>\n      <th>Sale_MF</th>\n      <th>Sale_CC</th>\n      <th>Sale_CL</th>\n      <th>Revenue_MF</th>\n      <th>Revenue_CC</th>\n      <th>Revenue_CL</th>\n      <th>...</th>\n      <th>binned_VolumeDeb</th>\n      <th>binned_VolumeDeb_CA</th>\n      <th>binned_VolumeDebCash_Card</th>\n      <th>binned_VolumeDebCashless_Card</th>\n      <th>binned_VolumeDeb_PaymentOrder</th>\n      <th>binned_TransactionsDeb</th>\n      <th>binned_TransactionsDeb_CA</th>\n      <th>binned_TransactionsDebCash_Card</th>\n      <th>binned_TransactionsDebCashless_Card</th>\n      <th>binned_TransactionsDeb_PaymentOrder</th>\n    </tr>\n  </thead>\n  <tbody>\n    <tr>\n      <th>0</th>\n      <td>1094</td>\n      <td>1.0</td>\n      <td>5.138571</td>\n      <td>2</td>\n      <td>0</td>\n      <td>1</td>\n      <td>0</td>\n      <td>0.000000</td>\n      <td>5.138571</td>\n      <td>0.0000</td>\n      <td>...</td>\n      <td>3</td>\n      <td>3</td>\n      <td>1</td>\n      <td>2</td>\n      <td>3</td>\n      <td>1</td>\n      <td>1</td>\n      <td>1</td>\n      <td>1</td>\n      <td>1</td>\n    </tr>\n    <tr>\n      <th>1</th>\n      <td>1484</td>\n      <td>1.0</td>\n      <td>25.609107</td>\n      <td>3</td>\n      <td>1</td>\n      <td>0</td>\n      <td>1</td>\n      <td>25.609107</td>\n      <td>0.000000</td>\n      <td>8.7225</td>\n      <td>...</td>\n      <td>3</td>\n      <td>3</td>\n      <td>1</td>\n      <td>2</td>\n      <td>2</td>\n      <td>1</td>\n      <td>1</td>\n      <td>1</td>\n      <td>1</td>\n      <td>1</td>\n    </tr>\n    <tr>\n      <th>2</th>\n      <td>20</td>\n      <td>1.0</td>\n      <td>3.822500</td>\n      <td>2</td>\n      <td>0</td>\n      <td>1</td>\n      <td>0</td>\n      <td>0.000000</td>\n      <td>3.822500</td>\n      <td>0.0000</td>\n      <td>...</td>\n      <td>2</td>\n      <td>2</td>\n      <td>1</td>\n      <td>1</td>\n      <td>1</td>\n      <td>1</td>\n      <td>1</td>\n      <td>1</td>\n      <td>1</td>\n      <td>1</td>\n    </tr>\n    <tr>\n      <th>3</th>\n      <td>1193</td>\n      <td>0.0</td>\n      <td>0.000000</td>\n      <td>0</td>\n      <td>0</td>\n      <td>0</td>\n      <td>0</td>\n      <td>0.000000</td>\n      <td>0.000000</td>\n      <td>0.0000</td>\n      <td>...</td>\n      <td>4</td>\n      <td>3</td>\n      <td>2</td>\n      <td>2</td>\n      <td>1</td>\n      <td>1</td>\n      <td>1</td>\n      <td>1</td>\n      <td>1</td>\n      <td>1</td>\n    </tr>\n    <tr>\n      <th>4</th>\n      <td>142</td>\n      <td>0.0</td>\n      <td>0.000000</td>\n      <td>0</td>\n      <td>0</td>\n      <td>0</td>\n      <td>0</td>\n      <td>0.000000</td>\n      <td>0.000000</td>\n      <td>0.0000</td>\n      <td>...</td>\n      <td>3</td>\n      <td>3</td>\n      <td>1</td>\n      <td>1</td>\n      <td>3</td>\n      <td>1</td>\n      <td>1</td>\n      <td>1</td>\n      <td>1</td>\n      <td>1</td>\n    </tr>\n  </tbody>\n</table>\n<p>5 rows × 55 columns</p>\n</div>"
     },
     "metadata": {},
     "execution_count": 22
    }
   ],
   "source": [
    "df.head()"
   ]
  },
  {
   "cell_type": "code",
   "execution_count": 56,
   "metadata": {},
   "outputs": [],
   "source": [
    "X =df[df.columns[10:]]"
   ]
  },
  {
   "cell_type": "code",
   "execution_count": 57,
   "metadata": {
    "tags": []
   },
   "outputs": [
    {
     "output_type": "stream",
     "name": "stdout",
     "text": "Client  viable_candidate  Top_Value  Catagory_Label  Sale_MF  Sale_CC  \\\n3      1193               0.0        0.0               0        0        0   \n4       142               0.0        0.0               0        0        0   \n12     1106               0.0        0.0               0        0        0   \n13     1046               0.0        0.0               0        0        0   \n14      288               0.0        0.0               0        0        0   \n..      ...               ...        ...             ...      ...      ...   \n958      52               0.0        0.0               0        0        0   \n959     989               0.0        0.0               0        0        0   \n961     580               0.0        0.0               0        0        0   \n962    1477               0.0        0.0               0        0        0   \n967     434               0.0        0.0               0        0        0   \n\n     Sale_CL  Revenue_MF  Revenue_CC  Revenue_CL  ...  binned_VolumeDeb  \\\n3          0         0.0         0.0         0.0  ...                 4   \n4          0         0.0         0.0         0.0  ...                 3   \n12         0         0.0         0.0         0.0  ...                 2   \n13         0         0.0         0.0         0.0  ...                 1   \n14         0         0.0         0.0         0.0  ...                 3   \n..       ...         ...         ...         ...  ...               ...   \n958        0         0.0         0.0         0.0  ...                 1   \n959        0         0.0         0.0         0.0  ...                 3   \n961        0         0.0         0.0         0.0  ...                 1   \n962        0         0.0         0.0         0.0  ...                 2   \n967        0         0.0         0.0         0.0  ...                 1   \n\n     binned_VolumeDeb_CA  binned_VolumeDebCash_Card  \\\n3                      3                          2   \n4                      3                          1   \n12                     2                          1   \n13                     1                          1   \n14                     3                          2   \n..                   ...                        ...   \n958                    1                          1   \n959                    3                          2   \n961                    1                          1   \n962                    2                          1   \n967                    1                          1   \n\n     binned_VolumeDebCashless_Card  binned_VolumeDeb_PaymentOrder  \\\n3                                2                              1   \n4                                1                              3   \n12                               1                              1   \n13                               1                              1   \n14                               1                              2   \n..                             ...                            ...   \n958                              1                              1   \n959                              2                              1   \n961                              1                              1   \n962                              1                              1   \n967                              1                              1   \n\n     binned_TransactionsDeb  binned_TransactionsDeb_CA  \\\n3                         1                          1   \n4                         1                          1   \n12                        1                          1   \n13                        1                          1   \n14                        1                          1   \n..                      ...                        ...   \n958                       1                          1   \n959                       1                          1   \n961                       1                          1   \n962                       1                          1   \n967                       1                          1   \n\n     binned_TransactionsDebCash_Card  binned_TransactionsDebCashless_Card  \\\n3                                  1                                    1   \n4                                  1                                    1   \n12                                 1                                    1   \n13                                 1                                    1   \n14                                 1                                    1   \n..                               ...                                  ...   \n958                                1                                    1   \n959                                1                                    1   \n961                                1                                    1   \n962                                1                                    1   \n967                                1                                    1   \n\n     binned_TransactionsDeb_PaymentOrder  \n3                                      1  \n4                                      1  \n12                                     1  \n13                                     1  \n14                                     1  \n..                                   ...  \n958                                    1  \n959                                    1  \n961                                    1  \n962                                    1  \n967                                    1  \n\n[506 rows x 55 columns] score :  0.4444444444444444\n     Client  viable_candidate  Top_Value  Catagory_Label  Sale_MF  Sale_CC  \\\n0      1094               1.0   5.138571               2        0        1   \n2        20               1.0   3.822500               2        0        1   \n3      1193               0.0   0.000000               0        0        0   \n4       142               0.0   0.000000               0        0        0   \n6       672               1.0   1.964286               2        0        1   \n..      ...               ...        ...             ...      ...      ...   \n959     989               0.0   0.000000               0        0        0   \n961     580               0.0   0.000000               0        0        0   \n962    1477               0.0   0.000000               0        0        0   \n963     252               1.0   5.638571               2        0        1   \n967     434               0.0   0.000000               0        0        0   \n\n     Sale_CL  Revenue_MF  Revenue_CC  Revenue_CL  ...  binned_VolumeDeb  \\\n0          0         0.0    5.138571         0.0  ...                 3   \n2          0         0.0    3.822500         0.0  ...                 2   \n3          0         0.0    0.000000         0.0  ...                 4   \n4          0         0.0    0.000000         0.0  ...                 3   \n6          0         0.0    1.964286         0.0  ...                 2   \n..       ...         ...         ...         ...  ...               ...   \n959        0         0.0    0.000000         0.0  ...                 3   \n961        0         0.0    0.000000         0.0  ...                 1   \n962        0         0.0    0.000000         0.0  ...                 2   \n963        0         0.0    5.638571         0.0  ...                 3   \n967        0         0.0    0.000000         0.0  ...                 1   \n\n     binned_VolumeDeb_CA  binned_VolumeDebCash_Card  \\\n0                      3                          1   \n2                      2                          1   \n3                      3                          2   \n4                      3                          1   \n6                      2                          1   \n..                   ...                        ...   \n959                    3                          2   \n961                    1                          1   \n962                    2                          1   \n963                    3                          1   \n967                    1                          1   \n\n     binned_VolumeDebCashless_Card  binned_VolumeDeb_PaymentOrder  \\\n0                                2                              3   \n2                                1                              1   \n3                                2                              1   \n4                                1                              3   \n6                                1                              1   \n..                             ...                            ...   \n959                              2                              1   \n961                              1                              1   \n962                              1                              1   \n963                              3                              1   \n967                              1                              1   \n\n     binned_TransactionsDeb  binned_TransactionsDeb_CA  \\\n0                         1                          1   \n2                         1                          1   \n3                         1                          1   \n4                         1                          1   \n6                         1                          1   \n..                      ...                        ...   \n959                       1                          1   \n961                       1                          1   \n962                       1                          1   \n963                       1                          1   \n967                       1                          1   \n\n     binned_TransactionsDebCash_Card  binned_TransactionsDebCashless_Card  \\\n0                                  1                                    1   \n2                                  1                                    1   \n3                                  1                                    1   \n4                                  1                                    1   \n6                                  1                                    1   \n..                               ...                                  ...   \n959                                1                                    1   \n961                                1                                    1   \n962                                1                                    1   \n963                                1                                    1   \n967                                1                                    1   \n\n     binned_TransactionsDeb_PaymentOrder  \n0                                      1  \n2                                      1  \n3                                      1  \n4                                      1  \n6                                      1  \n..                                   ...  \n959                                    1  \n961                                    1  \n962                                    1  \n963                                    1  \n967                                    1  \n\n[573 rows x 55 columns] score :  0.4444444444444444\n     Client  viable_candidate  Top_Value  Catagory_Label  Sale_MF  Sale_CC  \\\n1      1484               1.0  25.609107               3        1        0   \n3      1193               0.0   0.000000               0        0        0   \n4       142               0.0   0.000000               0        0        0   \n5       865               1.0   7.535714               3        0        0   \n9      1513               1.0  13.315714               3        0        0   \n..      ...               ...        ...             ...      ...      ...   \n964    1316               1.0   3.317500               3        0        0   \n965     905               1.0  13.166786               3        1        1   \n966     938               1.0   7.812143               3        0        1   \n967     434               0.0   0.000000               0        0        0   \n968    1596               1.0   9.821429               3        0        0   \n\n     Sale_CL  Revenue_MF  Revenue_CC  Revenue_CL  ...  binned_VolumeDeb  \\\n1          1   25.609107    0.000000    8.722500  ...                 3   \n3          0    0.000000    0.000000    0.000000  ...                 4   \n4          0    0.000000    0.000000    0.000000  ...                 3   \n5          1    0.000000    0.000000    7.535714  ...                 2   \n9          1    0.000000    0.000000   13.315714  ...                 1   \n..       ...         ...         ...         ...  ...               ...   \n964        1    0.000000    0.000000    3.317500  ...                 4   \n965        1    1.761071    0.892857   13.166786  ...                 2   \n966        1    0.000000    4.928571    7.812143  ...                 2   \n967        0    0.000000    0.000000    0.000000  ...                 1   \n968        1    0.000000    0.000000    9.821429  ...                 1   \n\n     binned_VolumeDeb_CA  binned_VolumeDebCash_Card  \\\n1                      3                          1   \n3                      3                          2   \n4                      3                          1   \n5                      2                          1   \n9                      1                          1   \n..                   ...                        ...   \n964                    4                          2   \n965                    2                          1   \n966                    2                          1   \n967                    1                          1   \n968                    1                          1   \n\n     binned_VolumeDebCashless_Card  binned_VolumeDeb_PaymentOrder  \\\n1                                2                              2   \n3                                2                              1   \n4                                1                              3   \n5                                1                              1   \n9                                1                              1   \n..                             ...                            ...   \n964                              2                              4   \n965                              1                              2   \n966                              2                              1   \n967                              1                              1   \n968                              1                              1   \n\n     binned_TransactionsDeb  binned_TransactionsDeb_CA  \\\n1                         1                          1   \n3                         1                          1   \n4                         1                          1   \n5                         1                          1   \n9                         1                          1   \n..                      ...                        ...   \n964                       1                          1   \n965                       1                          1   \n966                       1                          1   \n967                       1                          1   \n968                       1                          1   \n\n     binned_TransactionsDebCash_Card  binned_TransactionsDebCashless_Card  \\\n1                                  1                                    1   \n3                                  1                                    1   \n4                                  1                                    1   \n5                                  1                                    1   \n9                                  1                                    1   \n..                               ...                                  ...   \n964                                1                                    1   \n965                                1                                    1   \n966                                1                                    1   \n967                                1                                    1   \n968                                1                                    1   \n\n     binned_TransactionsDeb_PaymentOrder  \n1                                      1  \n3                                      1  \n4                                      1  \n5                                      1  \n9                                      1  \n..                                   ...  \n964                                    1  \n965                                    1  \n966                                    1  \n967                                    1  \n968                                    1  \n\n[690 rows x 55 columns] score :  0.4444444444444444\n"
    }
   ],
   "source": [
    "for cat in range(1,4):\n",
    "    cat = df.loc[df['Catagory_Label'].isin([0,cat])]\n",
    "    #print(cat.sort_values(by= 'Catagory_Label')['Catagory_Label'].value_counts(normalize=True))\n",
    "    y = cat['Catagory_Label']\n",
    "    X_train, X_test, y_train, y_test = train_test_split(X, y, random_state=0)\n",
    "    clf = DecisionTreeClassifier(max_depth=5, random_state=0)\n",
    "    clf.fit(X_train, y_train)\n",
    "    score = clf.score(X_test, y_test)\n",
    "    print(cat, \"score : \", score)"
   ]
  },
  {
   "cell_type": "code",
   "execution_count": null,
   "metadata": {},
   "outputs": [],
   "source": []
  }
 ]
}